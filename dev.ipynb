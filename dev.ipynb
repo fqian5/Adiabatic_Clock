{
 "cells": [
  {
   "cell_type": "code",
   "execution_count": 1,
   "id": "9ca9db75",
   "metadata": {},
   "outputs": [],
   "source": [
    "import numpy as np\n",
    "import cirq\n",
    "from clock import *"
   ]
  },
  {
   "cell_type": "markdown",
   "id": "6295f049",
   "metadata": {},
   "source": [
    "### AA function"
   ]
  },
  {
   "cell_type": "code",
   "execution_count": 190,
   "id": "2b144162",
   "metadata": {},
   "outputs": [],
   "source": [
    "\n",
    "def permute_qubits(matrix: np.ndarray, perm: list) -> np.ndarray:\n",
    "    \"\"\"\n",
    "    Permute the qubit ordering of a 2^n x 2^n matrix.\n",
    "\n",
    "    Args:\n",
    "        matrix: The input operator matrix of shape (2^n, 2^n).\n",
    "        perm: A list of length n specifying the new ordering of the qubits.\n",
    "              For example, perm=[2,0,1,3] means:\n",
    "                qubit 0 -> position 2,\n",
    "                qubit 1 -> position 0,\n",
    "                qubit 2 -> position 1,\n",
    "                qubit 3 -> position 3.\n",
    "\n",
    "    Returns:\n",
    "        The permuted matrix of the same shape.\n",
    "    \"\"\"\n",
    "    n = int(np.log2(matrix.shape[0]))\n",
    "    assert matrix.shape == (2**n, 2**n), \"Matrix must be 2^n x 2^n\"\n",
    "    assert sorted(perm) == list(range(n)), \"perm must be a permutation of [0..n-1]\"\n",
    "\n",
    "    # Reshape into a tensor with separate row and column qubit axes\n",
    "    tensor = matrix.reshape([2]*n + [2]*n)\n",
    "\n",
    "    # Build transpose axes: first the row-qubit axes in new order, then the col-qubit axes\n",
    "    axes = perm + [p + n for p in perm]\n",
    "\n",
    "    # Transpose and collapse back to 2^n x 2^n\n",
    "    permuted = tensor.transpose(axes).reshape(2**n, 2**n)\n",
    "    return permuted\n",
    "\n",
    "def reflector_1(n_qubits,index):\n",
    "    label_qubits = len(index)\n",
    "    qubit_indices = list(range(n_qubits))\n",
    "    for i in index:\n",
    "        qubit_indices.remove(i)\n",
    "    qubit_indices = qubit_indices[::-1] + index\n",
    "    #qubit_indices = [4,2,1,0,3]\n",
    "    print(qubit_indices)\n",
    "    ref_label = np.eye(2**label_qubits)\n",
    "    ref_label[0][0] = -1\n",
    "    ref_label_full = np.kron(np.eye(2**(n_qubits-label_qubits)),ref_label)\n",
    "    ref_label_full = permute_qubits(ref_label_full, qubit_indices)\n",
    "    return ref_label_full\n",
    "\n",
    "def aa(index,U_prep,repetition):\n",
    "    n_qubits = int(np.log2(U_prep.shape[0]))\n",
    "    aa_circuit = np.eye(2**n_qubits)\n",
    "    state = np.zeros(2**n_qubits)\n",
    "    state[0] = 1\n",
    "    prep_state = U_prep@state\n",
    "    proj = np.outer(prep_state,prep_state.conj())\n",
    "    reflector = np.eye(proj.shape[0]) - 2*proj\n",
    "    print(\"Unitarity test for reflector \", -np.allclose(reflector@reflector.T.conj(), np.eye(reflector.shape[0])))\n",
    "    for i in range(repetition):\n",
    "        aa_circuit = -reflector@reflector_1(n_qubits,index)@aa_circuit\n",
    "        print(\"Unitarity test for reflector \", np.allclose(reflector_1(n_qubits,index)@reflector_1(n_qubits,index).T.conj(), np.eye(reflector_1(n_qubits,index).shape[0])))\n",
    "    return aa_circuit\n",
    "\n"
   ]
  },
  {
   "cell_type": "markdown",
   "id": "bfaa5bcc",
   "metadata": {},
   "source": [
    "## Testbed"
   ]
  },
  {
   "cell_type": "code",
   "execution_count": 232,
   "id": "ff5d751c",
   "metadata": {},
   "outputs": [
    {
     "name": "stdout",
     "output_type": "stream",
     "text": [
      "Unitarity test for reflector  -1\n",
      "[6, 5, 4, 3, 2, 1, 0, 7]\n",
      "[6, 5, 4, 3, 2, 1, 0, 7]\n",
      "[6, 5, 4, 3, 2, 1, 0, 7]\n",
      "[6, 5, 4, 3, 2, 1, 0, 7]\n",
      "Unitarity test for reflector  True\n"
     ]
    }
   ],
   "source": [
    "g = -0.5\n",
    "n_qubits = 6\n",
    "post_selection_list = [0,n_qubits+1]\n",
    "new_state,unitaries_list= sequential_prep_unitary(g,n_qubits)\n",
    "U = np.array(product_unitaries_loop(unitaries_list[::-1]))\n",
    "Uprime = aa(post_selection_list,U,1)@np.array(product_unitaries_loop(unitaries_list[::-1]))"
   ]
  },
  {
   "cell_type": "code",
   "execution_count": 233,
   "id": "7d42c1a9",
   "metadata": {},
   "outputs": [],
   "source": [
    "zero_state = np.zeros(U.shape[0])\n",
    "zero_state[0] = 1\n",
    "final_state = U@zero_state\n",
    "Uprime_state = Uprime@zero_state"
   ]
  },
  {
   "cell_type": "code",
   "execution_count": 234,
   "id": "2a0564ba",
   "metadata": {},
   "outputs": [
    {
     "data": {
      "text/plain": [
       "(array([ 0.29609328+0.j, -0.14804664+0.j, -0.14804664+0.j, -0.14804664+0.j,\n",
       "        -0.14804664+0.j,  0.07402332+0.j, -0.14804664+0.j, -0.14804664+0.j,\n",
       "        -0.14804664+0.j,  0.07402332+0.j,  0.07402332+0.j,  0.07402332+0.j,\n",
       "        -0.14804664+0.j,  0.07402332+0.j, -0.14804664+0.j, -0.14804664+0.j,\n",
       "        -0.14804664+0.j,  0.07402332+0.j,  0.07402332+0.j,  0.07402332+0.j,\n",
       "         0.07402332+0.j, -0.03701166+0.j,  0.07402332+0.j,  0.07402332+0.j,\n",
       "        -0.14804664+0.j,  0.07402332+0.j,  0.07402332+0.j,  0.07402332+0.j,\n",
       "        -0.14804664+0.j,  0.07402332+0.j, -0.14804664+0.j, -0.14804664+0.j,\n",
       "        -0.14804664+0.j, -0.14804664+0.j,  0.07402332+0.j, -0.14804664+0.j,\n",
       "         0.07402332+0.j,  0.07402332+0.j,  0.07402332+0.j, -0.14804664+0.j,\n",
       "         0.07402332+0.j,  0.07402332+0.j, -0.03701166+0.j,  0.07402332+0.j,\n",
       "         0.07402332+0.j,  0.07402332+0.j,  0.07402332+0.j, -0.14804664+0.j,\n",
       "        -0.14804664+0.j, -0.14804664+0.j,  0.07402332+0.j, -0.14804664+0.j,\n",
       "         0.07402332+0.j,  0.07402332+0.j,  0.07402332+0.j, -0.14804664+0.j,\n",
       "        -0.14804664+0.j, -0.14804664+0.j,  0.07402332+0.j, -0.14804664+0.j,\n",
       "        -0.14804664+0.j, -0.14804664+0.j, -0.14804664+0.j,  0.29609328+0.j]),\n",
       " 0.25034293552812104)"
      ]
     },
     "execution_count": 234,
     "metadata": {},
     "output_type": "execute_result"
    }
   ],
   "source": [
    "measure_qubits_outcome(final_state,post_selection_list,[0,0])"
   ]
  },
  {
   "cell_type": "code",
   "execution_count": 235,
   "id": "e16749ae",
   "metadata": {},
   "outputs": [
    {
     "data": {
      "text/plain": [
       "(array([ 0.29609328+0.j, -0.14804664+0.j, -0.14804664+0.j, -0.14804664+0.j,\n",
       "        -0.14804664+0.j,  0.07402332+0.j, -0.14804664+0.j, -0.14804664+0.j,\n",
       "        -0.14804664+0.j,  0.07402332+0.j,  0.07402332+0.j,  0.07402332+0.j,\n",
       "        -0.14804664+0.j,  0.07402332+0.j, -0.14804664+0.j, -0.14804664+0.j,\n",
       "        -0.14804664+0.j,  0.07402332+0.j,  0.07402332+0.j,  0.07402332+0.j,\n",
       "         0.07402332+0.j, -0.03701166+0.j,  0.07402332+0.j,  0.07402332+0.j,\n",
       "        -0.14804664+0.j,  0.07402332+0.j,  0.07402332+0.j,  0.07402332+0.j,\n",
       "        -0.14804664+0.j,  0.07402332+0.j, -0.14804664+0.j, -0.14804664+0.j,\n",
       "        -0.14804664+0.j, -0.14804664+0.j,  0.07402332+0.j, -0.14804664+0.j,\n",
       "         0.07402332+0.j,  0.07402332+0.j,  0.07402332+0.j, -0.14804664+0.j,\n",
       "         0.07402332+0.j,  0.07402332+0.j, -0.03701166+0.j,  0.07402332+0.j,\n",
       "         0.07402332+0.j,  0.07402332+0.j,  0.07402332+0.j, -0.14804664+0.j,\n",
       "        -0.14804664+0.j, -0.14804664+0.j,  0.07402332+0.j, -0.14804664+0.j,\n",
       "         0.07402332+0.j,  0.07402332+0.j,  0.07402332+0.j, -0.14804664+0.j,\n",
       "        -0.14804664+0.j, -0.14804664+0.j,  0.07402332+0.j, -0.14804664+0.j,\n",
       "        -0.14804664+0.j, -0.14804664+0.j, -0.14804664+0.j,  0.29609328+0.j]),\n",
       " 0.9999985893879795)"
      ]
     },
     "execution_count": 235,
     "metadata": {},
     "output_type": "execute_result"
    }
   ],
   "source": [
    "measure_qubits_outcome(Uprime_state,post_selection_list,[0,0])"
   ]
  },
  {
   "cell_type": "markdown",
   "id": "26a069be",
   "metadata": {},
   "source": [
    "# AA is included in the main function\n"
   ]
  },
  {
   "cell_type": "code",
   "execution_count": null,
   "id": "46184eec",
   "metadata": {},
   "outputs": [],
   "source": []
  },
  {
   "cell_type": "code",
   "execution_count": null,
   "id": "64a63538",
   "metadata": {},
   "outputs": [],
   "source": []
  },
  {
   "cell_type": "code",
   "execution_count": null,
   "id": "af3a2946",
   "metadata": {},
   "outputs": [],
   "source": []
  }
 ],
 "metadata": {
  "kernelspec": {
   "display_name": "clock",
   "language": "python",
   "name": "python3"
  },
  "language_info": {
   "codemirror_mode": {
    "name": "ipython",
    "version": 3
   },
   "file_extension": ".py",
   "mimetype": "text/x-python",
   "name": "python",
   "nbconvert_exporter": "python",
   "pygments_lexer": "ipython3",
   "version": "3.12.9"
  }
 },
 "nbformat": 4,
 "nbformat_minor": 5
}
