{
 "cells": [
  {
   "cell_type": "code",
   "execution_count": 1,
   "id": "84efe5e4",
   "metadata": {},
   "outputs": [
    {
     "name": "stderr",
     "output_type": "stream",
     "text": [
      "/Users/qianfeng/anaconda3/envs/clock/lib/python3.12/site-packages/tqdm/auto.py:21: TqdmWarning: IProgress not found. Please update jupyter and ipywidgets. See https://ipywidgets.readthedocs.io/en/stable/user_install.html\n",
      "  from .autonotebook import tqdm as notebook_tqdm\n"
     ]
    }
   ],
   "source": [
    "from scipy.sparse.linalg import eigsh\n",
    "import matplotlib.pyplot as plt\n",
    "import numpy as np\n",
    "from symmer.operators.base import PauliwordOp, QuantumState\n",
    "import os\n",
    "import json\n",
    "from symmer.projection import QubitTapering\n",
    "import sparse\n"
   ]
  },
  {
   "cell_type": "code",
   "execution_count": 2,
   "id": "df93277b",
   "metadata": {},
   "outputs": [],
   "source": [
    "import sys, pathlib, os\n",
    "\n",
    "# Path of the directory that holds clock.py\n",
    "project_root = pathlib.Path(os.getcwd()).parent    # cwd == ADIABATIC_CLOCK/chem usually\n",
    "sys.path.append(str(project_root))\n",
    "\n",
    "from clock import *"
   ]
  },
  {
   "cell_type": "code",
   "execution_count": 3,
   "id": "4bc92c8f",
   "metadata": {},
   "outputs": [
    {
     "data": {
      "text/plain": [
       "['H2O', 'LiH', 'H4_square', 'H3_triangle']"
      ]
     },
     "execution_count": 3,
     "metadata": {},
     "output_type": "execute_result"
    }
   ],
   "source": [
    "## import file from the currrent dir\n",
    "cwd = os.getcwd()\n",
    "files = [f for f in os.listdir(cwd) if os.path.isdir(os.path.join(cwd, f))]\n",
    "files"
   ]
  },
  {
   "cell_type": "code",
   "execution_count": 4,
   "id": "5df40624",
   "metadata": {},
   "outputs": [
    {
     "data": {
      "text/plain": [
       "'H3_triangle'"
      ]
     },
     "execution_count": 4,
     "metadata": {},
     "output_type": "execute_result"
    }
   ],
   "source": [
    "selected_file = files[3]\n",
    "selected_file"
   ]
  },
  {
   "cell_type": "code",
   "execution_count": 5,
   "id": "c4cbec44",
   "metadata": {},
   "outputs": [],
   "source": [
    "sub_dir = os.path.join(cwd, selected_file)\n",
    "json_data = os.path.join(sub_dir, 'chem_data.json')\n",
    "\n",
    "\n",
    "with open(json_data, 'r') as infile:\n",
    "    data = json.load(infile)"
   ]
  },
  {
   "cell_type": "code",
   "execution_count": 6,
   "id": "70e2aa5a",
   "metadata": {},
   "outputs": [],
   "source": [
    "#read out energy\n",
    "ccsd_energy = data['ccsd_energy']\n",
    "cisd_energy = data['cisd_energy']\n",
    "hf_energy = data['hf_energy']\n",
    "fci_energy = data['fci_energy']\n"
   ]
  },
  {
   "cell_type": "code",
   "execution_count": null,
   "id": "e1d5160a",
   "metadata": {},
   "outputs": [],
   "source": []
  },
  {
   "cell_type": "code",
   "execution_count": 7,
   "id": "1d4f0c15",
   "metadata": {},
   "outputs": [],
   "source": [
    "#read out hamiltonian and quantum state from dict file\n",
    "H        = PauliwordOp.from_dictionary(data['H'])\n",
    "psi_hf   = QuantumState.from_dictionary(data['hf_state'])\n",
    "psi_cisd = QuantumState.from_dictionary(data['cisd_state'])\n",
    "psi_ccsd = QuantumState.from_dictionary(data['ccsd_state'])\n",
    "psi_fci  = QuantumState.from_dictionary(data['fci_state'])"
   ]
  },
  {
   "cell_type": "code",
   "execution_count": 8,
   "id": "c03f5911",
   "metadata": {},
   "outputs": [
    {
     "name": "stdout",
     "output_type": "stream",
     "text": [
      "for  H3_triangle\n",
      "overlap between HF and FCI 0j\n",
      "overlap between CCSD and FCI (-1.8110802081288474e-17+0j)\n",
      "overlap between CISD and FCI (8.663825135659511e-17+0j)\n",
      "fci energy -1.410815594355744\n",
      "chemical accuracy is 1.59 x 10^-3\n",
      "energy difference between fci and ccsd -0.05830950840581628\n",
      "energy difference between fci and cisd -0.061042461211253896\n",
      "energy difference between fci and hf -0.11711025148426524\n"
     ]
    }
   ],
   "source": [
    "print('for ',selected_file)\n",
    "#print('norm of hf state is ',psi_hf.dagger*psi_hf)\n",
    "#print('norm of cisd state is ',psi_cisd.dagger*psi_cisd)\n",
    "#print('norm of ccsd state is ',psi_ccsd.dagger*psi_ccsd)\n",
    "#print('norm of fci state is ',psi_fci.dagger*psi_fci)\n",
    "print('overlap between HF and FCI', psi_fci.dagger*psi_hf)\n",
    "print('overlap between CCSD and FCI', psi_fci.dagger*psi_ccsd)\n",
    "print('overlap between CISD and FCI', psi_fci.dagger*psi_cisd)\n",
    "print('fci energy',fci_energy)\n",
    "print('chemical accuracy is 1.59 x 10^-3')\n",
    "print('energy difference between fci and ccsd', fci_energy-ccsd_energy)\n",
    "print('energy difference between fci and cisd', fci_energy-cisd_energy)\n",
    "print('energy difference between fci and hf', fci_energy-hf_energy)"
   ]
  },
  {
   "cell_type": "code",
   "execution_count": 9,
   "id": "4c45d525",
   "metadata": {},
   "outputs": [],
   "source": [
    "hf_state = psi_hf.to_dense_matrix\n",
    "fci_state = psi_fci.to_dense_matrix\n",
    "ccsd_state = psi_ccsd.to_dense_matrix\n",
    "cisd_state = psi_cisd.to_dense_matrix"
   ]
  },
  {
   "cell_type": "code",
   "execution_count": 10,
   "id": "61ef139a",
   "metadata": {},
   "outputs": [
    {
     "name": "stdout",
     "output_type": "stream",
     "text": [
      "1\n",
      "True\n",
      "True\n",
      "1\n",
      "True\n",
      "True\n",
      "1\n",
      "True\n",
      "True\n",
      "1\n",
      "True\n",
      "True\n"
     ]
    }
   ],
   "source": [
    "U_fci = dummy_state_prep(fci_state)\n",
    "U_ccsd = dummy_state_prep(ccsd_state)\n",
    "U_cisd = dummy_state_prep(cisd_state)\n",
    "U_hf = dummy_state_prep(hf_state)"
   ]
  },
  {
   "cell_type": "code",
   "execution_count": null,
   "id": "4606fcc3",
   "metadata": {},
   "outputs": [],
   "source": []
  },
  {
   "cell_type": "code",
   "execution_count": null,
   "id": "65f12b4a",
   "metadata": {},
   "outputs": [],
   "source": []
  },
  {
   "cell_type": "code",
   "execution_count": null,
   "id": "0d01847f",
   "metadata": {},
   "outputs": [],
   "source": []
  },
  {
   "cell_type": "code",
   "execution_count": null,
   "id": "0922d5f1",
   "metadata": {},
   "outputs": [],
   "source": []
  }
 ],
 "metadata": {
  "kernelspec": {
   "display_name": "clock",
   "language": "python",
   "name": "python3"
  },
  "language_info": {
   "codemirror_mode": {
    "name": "ipython",
    "version": 3
   },
   "file_extension": ".py",
   "mimetype": "text/x-python",
   "name": "python",
   "nbconvert_exporter": "python",
   "pygments_lexer": "ipython3",
   "version": "3.12.9"
  }
 },
 "nbformat": 4,
 "nbformat_minor": 5
}
