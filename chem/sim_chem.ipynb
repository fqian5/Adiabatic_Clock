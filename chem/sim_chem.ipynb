{
 "cells": [
  {
   "cell_type": "code",
   "execution_count": 10,
   "id": "84efe5e4",
   "metadata": {},
   "outputs": [
    {
     "ename": "ModuleNotFoundError",
     "evalue": "No module named 'clock'",
     "output_type": "error",
     "traceback": [
      "\u001b[0;31m---------------------------------------------------------------------------\u001b[0m",
      "\u001b[0;31mModuleNotFoundError\u001b[0m                       Traceback (most recent call last)",
      "Cell \u001b[0;32mIn[10], line 9\u001b[0m\n\u001b[1;32m      7\u001b[0m \u001b[38;5;28;01mfrom\u001b[39;00m\u001b[38;5;250m \u001b[39m\u001b[38;5;21;01msymmer\u001b[39;00m\u001b[38;5;21;01m.\u001b[39;00m\u001b[38;5;21;01mprojection\u001b[39;00m\u001b[38;5;250m \u001b[39m\u001b[38;5;28;01mimport\u001b[39;00m QubitTapering\n\u001b[1;32m      8\u001b[0m \u001b[38;5;28;01mimport\u001b[39;00m\u001b[38;5;250m \u001b[39m\u001b[38;5;21;01msparse\u001b[39;00m\n\u001b[0;32m----> 9\u001b[0m \u001b[38;5;28;01mfrom\u001b[39;00m\u001b[38;5;250m \u001b[39m\u001b[38;5;21;01mclock\u001b[39;00m\u001b[38;5;250m \u001b[39m\u001b[38;5;28;01mimport\u001b[39;00m \u001b[38;5;241m*\u001b[39m\n",
      "\u001b[0;31mModuleNotFoundError\u001b[0m: No module named 'clock'"
     ]
    }
   ],
   "source": [
    "from scipy.sparse.linalg import eigsh\n",
    "import matplotlib.pyplot as plt\n",
    "import numpy as np\n",
    "from symmer.operators.base import PauliwordOp, QuantumState\n",
    "import os\n",
    "import json\n",
    "from symmer.projection import QubitTapering\n",
    "import sparse\n",
    "from clock import *\n"
   ]
  },
  {
   "cell_type": "code",
   "execution_count": 2,
   "id": "4bc92c8f",
   "metadata": {},
   "outputs": [
    {
     "data": {
      "text/plain": [
       "['H2O', 'LiH', 'H4_square', 'H3_triangle']"
      ]
     },
     "execution_count": 2,
     "metadata": {},
     "output_type": "execute_result"
    }
   ],
   "source": [
    "## import file from the currrent dir\n",
    "cwd = os.getcwd()\n",
    "files = [f for f in os.listdir(cwd) if os.path.isdir(os.path.join(cwd, f))]\n",
    "files"
   ]
  },
  {
   "cell_type": "code",
   "execution_count": 3,
   "id": "5df40624",
   "metadata": {},
   "outputs": [
    {
     "data": {
      "text/plain": [
       "'H3_triangle'"
      ]
     },
     "execution_count": 3,
     "metadata": {},
     "output_type": "execute_result"
    }
   ],
   "source": [
    "selected_file = files[3]\n",
    "selected_file"
   ]
  },
  {
   "cell_type": "code",
   "execution_count": 4,
   "id": "c4cbec44",
   "metadata": {},
   "outputs": [],
   "source": [
    "sub_dir = os.path.join(cwd, selected_file)\n",
    "json_data = os.path.join(sub_dir, 'chem_data.json')\n",
    "\n",
    "\n",
    "with open(json_data, 'r') as infile:\n",
    "    data = json.load(infile)"
   ]
  },
  {
   "cell_type": "code",
   "execution_count": 5,
   "id": "70e2aa5a",
   "metadata": {},
   "outputs": [],
   "source": [
    "#read out energy\n",
    "ccsd_energy = data['ccsd_energy']\n",
    "cisd_energy = data['cisd_energy']\n",
    "hf_energy = data['hf_energy']\n",
    "fci_energy = data['fci_energy']\n"
   ]
  },
  {
   "cell_type": "code",
   "execution_count": 6,
   "id": "1d4f0c15",
   "metadata": {},
   "outputs": [
    {
     "data": {
      "text/plain": [
       "(12, 1443)"
      ]
     },
     "execution_count": 6,
     "metadata": {},
     "output_type": "execute_result"
    }
   ],
   "source": [
    "#read out hamiltonian and quantum state from dict file\n",
    "H        = PauliwordOp.from_dictionary(data['H'])\n",
    "psi_hf   = QuantumState.from_dictionary(data['hf_state'])\n",
    "psi_cisd = QuantumState.from_dictionary(data['cisd_state'])\n",
    "psi_ccsd = QuantumState.from_dictionary(data['ccsd_state'])\n",
    "psi_fci  = QuantumState.from_dictionary(data['fci_state'])\n",
    "\n",
    "\n",
    "H.n_qubits, H.n_terms"
   ]
  },
  {
   "cell_type": "code",
   "execution_count": 7,
   "id": "c03f5911",
   "metadata": {},
   "outputs": [
    {
     "name": "stdout",
     "output_type": "stream",
     "text": [
      "for  H3_triangle\n",
      "overlap between HF and FCI 0j\n",
      "overlap between CCSD and FCI (-1.8110802081288474e-17+0j)\n",
      "overlap between CISD and FCI (8.663825135659511e-17+0j)\n",
      "fci energy -1.410815594355744\n",
      "chemical accuracy is 1.59 x 10^-3\n",
      "energy difference between fci and ccsd -0.05830950840581628\n",
      "energy difference between fci and cisd -0.061042461211253896\n",
      "energy difference between fci and hf -0.11711025148426524\n"
     ]
    }
   ],
   "source": [
    "print('for ',selected_file)\n",
    "#print('norm of hf state is ',psi_hf.dagger*psi_hf)\n",
    "#print('norm of cisd state is ',psi_cisd.dagger*psi_cisd)\n",
    "#print('norm of ccsd state is ',psi_ccsd.dagger*psi_ccsd)\n",
    "#print('norm of fci state is ',psi_fci.dagger*psi_fci)\n",
    "print('overlap between HF and FCI', psi_fci.dagger*psi_hf)\n",
    "print('overlap between CCSD and FCI', psi_fci.dagger*psi_ccsd)\n",
    "print('overlap between CISD and FCI', psi_fci.dagger*psi_cisd)\n",
    "print('fci energy',fci_energy)\n",
    "print('chemical accuracy is 1.59 x 10^-3')\n",
    "print('energy difference between fci and ccsd', fci_energy-ccsd_energy)\n",
    "print('energy difference between fci and cisd', fci_energy-cisd_energy)\n",
    "print('energy difference between fci and hf', fci_energy-hf_energy)\n",
    "\n",
    "\n",
    "\n"
   ]
  },
  {
   "cell_type": "code",
   "execution_count": 8,
   "id": "61ef139a",
   "metadata": {},
   "outputs": [
    {
     "ename": "NameError",
     "evalue": "name 'dummy_state_prep' is not defined",
     "output_type": "error",
     "traceback": [
      "\u001b[0;31m---------------------------------------------------------------------------\u001b[0m",
      "\u001b[0;31mNameError\u001b[0m                                 Traceback (most recent call last)",
      "Cell \u001b[0;32mIn[8], line 1\u001b[0m\n\u001b[0;32m----> 1\u001b[0m U_fci \u001b[38;5;241m=\u001b[39m \u001b[43mdummy_state_prep\u001b[49m(psi_fci)\n\u001b[1;32m      2\u001b[0m U_ccsd \u001b[38;5;241m=\u001b[39m dummy_state_prep(psi_ccsd)\n\u001b[1;32m      3\u001b[0m U_cisd \u001b[38;5;241m=\u001b[39m dummy_state_prep(psi_cisd)\n",
      "\u001b[0;31mNameError\u001b[0m: name 'dummy_state_prep' is not defined"
     ]
    }
   ],
   "source": [
    "U_fci = dummy_state_prep(psi_fci)\n",
    "U_ccsd = dummy_state_prep(psi_ccsd)\n",
    "U_cisd = dummy_state_prep(psi_cisd)\n",
    "U_hf = dummy_state_prep(psi_hf)"
   ]
  },
  {
   "cell_type": "code",
   "execution_count": null,
   "id": "4606fcc3",
   "metadata": {},
   "outputs": [],
   "source": []
  }
 ],
 "metadata": {
  "kernelspec": {
   "display_name": "clock",
   "language": "python",
   "name": "python3"
  },
  "language_info": {
   "codemirror_mode": {
    "name": "ipython",
    "version": 3
   },
   "file_extension": ".py",
   "mimetype": "text/x-python",
   "name": "python",
   "nbconvert_exporter": "python",
   "pygments_lexer": "ipython3",
   "version": "3.12.9"
  }
 },
 "nbformat": 4,
 "nbformat_minor": 5
}
